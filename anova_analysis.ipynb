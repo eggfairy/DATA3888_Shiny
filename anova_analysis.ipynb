{
 "cells": [
  {
   "cell_type": "code",
   "execution_count": 3,
   "id": "9d1eb44b",
   "metadata": {},
   "outputs": [],
   "source": [
    "import pickle\n",
    "import pandas as pd\n",
    "import statsmodels.api as sm\n",
    "from statsmodels.formula.api import ols"
   ]
  },
  {
   "cell_type": "code",
   "execution_count": 5,
   "id": "9a8a9dbb",
   "metadata": {},
   "outputs": [],
   "source": [
    "with open(\"denoised_cv_results/models_denoising_accuracies.pkl\", \"rb\") as f:\n",
    "    models_denoising_accuracies = pickle.load(f)\n",
    "with open(\"denoised_cv_results/models_denoising_f1_scores.pkl\", \"rb\") as f:\n",
    "    models_denoising_f1_score = pickle.load(f)"
   ]
  },
  {
   "cell_type": "code",
   "execution_count": 6,
   "id": "3581ed27",
   "metadata": {},
   "outputs": [
    {
     "name": "stdout",
     "output_type": "stream",
     "text": [
      "                        sum_sq     df             F         PR(>F)\n",
      "C(model)              0.516350    3.0   6223.460832  1.678917e-181\n",
      "C(denoiser)           1.400575    4.0  12660.638235  2.437586e-219\n",
      "C(model):C(denoiser)  0.371716   12.0   1120.054850  4.276723e-162\n",
      "Residual              0.004978  180.0           NaN            NaN\n"
     ]
    }
   ],
   "source": [
    "data = []\n",
    "\n",
    "for model, denoise_dict in models_denoising_accuracies.items():\n",
    "    for denoiser, accuracies in denoise_dict.items():\n",
    "        for fold, acc in enumerate(accuracies):\n",
    "            data.append({\n",
    "                'model': model,\n",
    "                'denoiser': denoiser,\n",
    "                'fold': fold,\n",
    "                'accuracy': acc\n",
    "            })\n",
    "\n",
    "df = pd.DataFrame(data)\n",
    "\n",
    "anova_model = ols('accuracy ~ C(model) + C(denoiser) + C(model):C(denoiser)', data=df).fit()\n",
    "anova_table = sm.stats.anova_lm(anova_model, typ=2)\n",
    "\n",
    "print(anova_table)"
   ]
  },
  {
   "cell_type": "code",
   "execution_count": 8,
   "id": "8ae778d2",
   "metadata": {},
   "outputs": [],
   "source": [
    "with open(\"masking_cv_results/models_masks_accuracies.pkl\", \"rb\") as f:\n",
    "    models_masks_accuracies = pickle.load(f)\n",
    "with open(\"masking_cv_results/models_masks_f1_scores.pkl\", \"rb\") as f:\n",
    "    models_masks_f1_scores = pickle.load(f)"
   ]
  },
  {
   "cell_type": "code",
   "execution_count": 9,
   "id": "b3a998ea",
   "metadata": {},
   "outputs": [
    {
     "name": "stdout",
     "output_type": "stream",
     "text": [
      "                    sum_sq     df          F        PR(>F)\n",
      "C(model)          0.001408    3.0  14.885652  3.533272e-08\n",
      "C(mask)           0.000451    2.0   7.159453  1.202898e-03\n",
      "C(model):C(mask)  0.000307    6.0   1.623951  1.473782e-01\n",
      "Residual          0.003404  108.0        NaN           NaN\n"
     ]
    }
   ],
   "source": [
    "data = []\n",
    "\n",
    "for model, mask_dict in models_masks_accuracies.items():\n",
    "    for mask, accuracies in mask_dict.items():\n",
    "        for fold, acc in enumerate(accuracies):\n",
    "            data.append({\n",
    "                'model': model,\n",
    "                'mask': mask,\n",
    "                'fold': fold,\n",
    "                'accuracy': acc\n",
    "            })\n",
    "\n",
    "df = pd.DataFrame(data)\n",
    "\n",
    "anova_model = ols('accuracy ~ C(model) + C(mask) + C(model):C(mask)', data=df).fit()\n",
    "anova_table = sm.stats.anova_lm(anova_model, typ=2)\n",
    "\n",
    "print(anova_table)"
   ]
  },
  {
   "cell_type": "code",
   "execution_count": null,
   "id": "ebcc1716",
   "metadata": {},
   "outputs": [],
   "source": []
  }
 ],
 "metadata": {
  "kernelspec": {
   "display_name": "venv",
   "language": "python",
   "name": "python3"
  },
  "language_info": {
   "codemirror_mode": {
    "name": "ipython",
    "version": 3
   },
   "file_extension": ".py",
   "mimetype": "text/x-python",
   "name": "python",
   "nbconvert_exporter": "python",
   "pygments_lexer": "ipython3",
   "version": "3.13.1"
  }
 },
 "nbformat": 4,
 "nbformat_minor": 5
}
