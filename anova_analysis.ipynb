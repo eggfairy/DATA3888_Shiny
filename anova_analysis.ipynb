{
 "cells": [
  {
   "cell_type": "code",
   "execution_count": 1,
   "id": "9d1eb44b",
   "metadata": {},
   "outputs": [],
   "source": [
    "import pickle\n",
    "import pandas as pd\n",
    "import statsmodels.api as sm\n",
    "from statsmodels.formula.api import ols"
   ]
  },
  {
   "cell_type": "code",
   "execution_count": 19,
   "id": "9a8a9dbb",
   "metadata": {},
   "outputs": [],
   "source": [
    "with open(\"denoised_cv_results/models_denoising_accuracies.pkl\", \"rb\") as f:\n",
    "    models_denoising_accuracies = pickle.load(f)\n",
    "with open(\"denoised_cv_results/models_denoising_f1_scores.pkl\", \"rb\") as f:\n",
    "    models_denoising_f1_score = pickle.load(f)"
   ]
  },
  {
   "cell_type": "code",
   "execution_count": 20,
   "id": "3581ed27",
   "metadata": {},
   "outputs": [
    {
     "name": "stdout",
     "output_type": "stream",
     "text": [
      "                        sum_sq     df             F         PR(>F)\n",
      "C(model)              0.516350    3.0   6223.460832  1.678917e-181\n",
      "C(denoiser)           1.400575    4.0  12660.638235  2.437586e-219\n",
      "C(model):C(denoiser)  0.371716   12.0   1120.054850  4.276723e-162\n",
      "Residual              0.004978  180.0           NaN            NaN\n"
     ]
    }
   ],
   "source": [
    "data = []\n",
    "\n",
    "for model, denoise_dict in models_denoising_accuracies.items():\n",
    "    for denoiser, accuracies in denoise_dict.items():\n",
    "        for fold, acc in enumerate(accuracies):\n",
    "            data.append({\n",
    "                'model': model,\n",
    "                'denoiser': denoiser,\n",
    "                'fold': fold,\n",
    "                'accuracy': acc\n",
    "            })\n",
    "\n",
    "df = pd.DataFrame(data)\n",
    "\n",
    "anova_model = ols('accuracy ~ C(model) + C(denoiser) + C(model):C(denoiser)', data=df).fit()\n",
    "anova_table = sm.stats.anova_lm(anova_model, typ=2)\n",
    "\n",
    "print(anova_table)"
   ]
  },
  {
   "cell_type": "code",
   "execution_count": 21,
   "id": "1938af5a",
   "metadata": {},
   "outputs": [
    {
     "name": "stdout",
     "output_type": "stream",
     "text": [
      "       Multiple Comparison of Means - Tukey HSD, FWER=0.05        \n",
      "==================================================================\n",
      "    group1        group2    meandiff p-adj   lower   upper  reject\n",
      "------------------------------------------------------------------\n",
      "        DnCNN Gaussian_Blur  -0.1464    0.0 -0.1881 -0.1048   True\n",
      "        DnCNN   Median_Blur  -0.1758    0.0 -0.2174 -0.1341   True\n",
      "        DnCNN          None  -0.2388    0.0 -0.2804 -0.1971   True\n",
      "        DnCNN     Restormer  -0.0666 0.0002 -0.1083 -0.0249   True\n",
      "Gaussian_Blur   Median_Blur  -0.0293 0.3011  -0.071  0.0123  False\n",
      "Gaussian_Blur          None  -0.0923    0.0  -0.134 -0.0506   True\n",
      "Gaussian_Blur     Restormer   0.0799    0.0  0.0382  0.1215   True\n",
      "  Median_Blur          None   -0.063 0.0004 -0.1047 -0.0213   True\n",
      "  Median_Blur     Restormer   0.1092    0.0  0.0675  0.1508   True\n",
      "         None     Restormer   0.1722    0.0  0.1305  0.2138   True\n",
      "------------------------------------------------------------------\n"
     ]
    }
   ],
   "source": [
    "df.groupby(\"denoiser\")[\"accuracy\"].mean()\n",
    "\n",
    "from statsmodels.stats.multicomp import pairwise_tukeyhsd\n",
    "\n",
    "tukey = pairwise_tukeyhsd(endog=df[\"accuracy\"], groups=df[\"denoiser\"])\n",
    "print(tukey)\n"
   ]
  },
  {
   "cell_type": "code",
   "execution_count": 16,
   "id": "8ae778d2",
   "metadata": {},
   "outputs": [],
   "source": [
    "with open(\"masking_cv_results_v2/models_masks_accuracies.pkl\", \"rb\") as f:\n",
    "    models_masks_accuracies = pickle.load(f)\n",
    "with open(\"masking_cv_results_v2/models_masks_f1_scores.pkl\", \"rb\") as f:\n",
    "    models_masks_f1_scores = pickle.load(f)"
   ]
  },
  {
   "cell_type": "code",
   "execution_count": null,
   "id": "b3a998ea",
   "metadata": {},
   "outputs": [
    {
     "name": "stdout",
     "output_type": "stream",
     "text": [
      "                    sum_sq     df           F        PR(>F)\n",
      "C(model)          0.029189    3.0  480.562129  8.901237e-75\n",
      "C(mask)           0.057555    3.0  947.576898  1.448025e-94\n",
      "C(model):C(mask)  0.018118    9.0   99.429312  2.938280e-57\n",
      "Residual          0.002915  144.0         NaN           NaN\n"
     ]
    }
   ],
   "source": [
    "data = []\n",
    "\n",
    "for model, mask_dict in models_masks_accuracies.items():\n",
    "    for mask, accuracies in mask_dict.items():\n",
    "        for acc in accuracies:\n",
    "            data.append({\n",
    "                'model': model,\n",
    "                'mask': mask,\n",
    "                'accuracy': acc\n",
    "            })\n",
    "\n",
    "df = pd.DataFrame(data)\n",
    "\n",
    "anova_model = ols('accuracy ~ C(model) + C(mask) + C(model):C(mask)', data=df).fit()\n",
    "anova_table = sm.stats.anova_lm(anova_model, typ=2)\n",
    "\n",
    "print(anova_table)"
   ]
  },
  {
   "cell_type": "code",
   "execution_count": null,
   "id": "ebcc1716",
   "metadata": {},
   "outputs": [
    {
     "name": "stdout",
     "output_type": "stream",
     "text": [
      "    Multiple Comparison of Means - Tukey HSD, FWER=0.05     \n",
      "============================================================\n",
      "  group1     group2   meandiff p-adj   lower   upper  reject\n",
      "------------------------------------------------------------\n",
      "    Centre Non-centre   0.0048 0.6306 -0.0056  0.0152  False\n",
      "    Centre       None   0.0332    0.0  0.0228  0.0436   True\n",
      "    Centre     Random  -0.0199    0.0 -0.0303 -0.0095   True\n",
      "Non-centre       None   0.0284    0.0   0.018  0.0388   True\n",
      "Non-centre     Random  -0.0247    0.0 -0.0351 -0.0143   True\n",
      "      None     Random  -0.0531    0.0 -0.0635 -0.0427   True\n",
      "------------------------------------------------------------\n"
     ]
    }
   ],
   "source": [
    "df.groupby(\"mask\")[\"accuracy\"].mean()\n",
    "\n",
    "tukey = pairwise_tukeyhsd(endog=df[\"accuracy\"], groups=df[\"mask\"])\n",
    "print(tukey)\n"
   ]
  },
  {
   "cell_type": "code",
   "execution_count": null,
   "id": "3865cbca",
   "metadata": {},
   "outputs": [],
   "source": []
  }
 ],
 "metadata": {
  "kernelspec": {
   "display_name": "venv",
   "language": "python",
   "name": "python3"
  },
  "language_info": {
   "codemirror_mode": {
    "name": "ipython",
    "version": 3
   },
   "file_extension": ".py",
   "mimetype": "text/x-python",
   "name": "python",
   "nbconvert_exporter": "python",
   "pygments_lexer": "ipython3",
   "version": "3.13.1"
  }
 },
 "nbformat": 4,
 "nbformat_minor": 5
}
