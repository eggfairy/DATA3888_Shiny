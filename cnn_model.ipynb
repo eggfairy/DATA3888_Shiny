{
 "cells": [
  {
   "cell_type": "code",
   "execution_count": 1,
   "id": "9eadc017",
   "metadata": {},
   "outputs": [],
   "source": [
    "import torch\n",
    "import torch.nn as nn\n",
    "import torch.nn.functional as F\n",
    "import torch.optim as optim\n",
    "from torch.utils.data import DataLoader, Dataset, Subset\n",
    "from torchvision import transforms, models\n",
    "from sklearn.model_selection import train_test_split, StratifiedKFold, cross_val_score\n",
    "from sklearn.ensemble import RandomForestClassifier\n",
    "from sklearn.svm import SVC\n",
    "from sklearn.neighbors import KNeighborsClassifier\n",
    "from sklearn.metrics import classification_report, accuracy_score, precision_score, confusion_matrix, ConfusionMatrixDisplay\n",
    "from sklearn.preprocessing import LabelEncoder\n",
    "import time\n",
    "import numpy as np\n",
    "import cv2\n",
    "from PIL import Image\n",
    "import os\n",
    "from matplotlib import pyplot as plt\n",
    "\n",
    "#Turn all the randomisation off to ensure the results of every execution is the same \n",
    "seed = 0\n",
    "np.random.seed(seed)\n",
    "torch.manual_seed(seed)\n",
    "torch.cuda.manual_seed(seed)\n",
    "torch.backends.cudnn.deterministic = True\n",
    "torch.backends.cudnn.benchmark = False"
   ]
  },
  {
   "cell_type": "markdown",
   "id": "f0a61a63",
   "metadata": {},
   "source": [
    "### Denoising strategy"
   ]
  },
  {
   "cell_type": "code",
   "execution_count": null,
   "id": "61cda8e2",
   "metadata": {},
   "outputs": [],
   "source": [
    "##### Put denoising functions here"
   ]
  },
  {
   "cell_type": "markdown",
   "id": "fac6fa3f",
   "metadata": {},
   "source": [
    "### Define Image Dataset structure and image transform"
   ]
  },
  {
   "cell_type": "code",
   "execution_count": null,
   "id": "01354cd1",
   "metadata": {},
   "outputs": [],
   "source": [
    "IMG_SIZE = 224\n",
    "FOLDER_PATH = \"Images/100\"\n",
    "\n",
    "class ImageDataSet(Dataset):\n",
    "    def __init__(self, image_names, transform):\n",
    "        self.file_names = []\n",
    "        self.labels = []\n",
    "        for numeric_label, names in enumerate(image_names):\n",
    "            self.labels.extend([numeric_label]*len(names))\n",
    "            self.file_names.extend(names)\n",
    "\n",
    "        self.transform = transform\n",
    "\n",
    "    def __getitem__(self, index):\n",
    "        img_name = self.file_names[index]\n",
    "        img = Image.open(img_name).convert('RGB')\n",
    "        img = self.transform(img)\n",
    "        label = self.labels[index]\n",
    "        return img, label\n",
    "    \n",
    "    def __len__(self):\n",
    "        return len(self.file_names)\n",
    "\n",
    "\n",
    "########################### We will have many transforms here. Store the transforms in list?\n",
    "transform = transforms.Compose([\n",
    "    #######################\n",
    "    # Put your denoising function here\n",
    "    # For example, `transforms.Lambda(lambda img: denoise_image_fn(img)),`   return data types: Image | torch.Tensor\n",
    "    #########################\n",
    "    transforms.Resize((IMG_SIZE, IMG_SIZE)),\n",
    "    transforms.ToTensor(),\n",
    "    transforms.Normalize(mean=[0.485, 0.456, 0.406], std=[0.229, 0.224, 0.225]) #Offically used by Pytorch\n",
    "])\n",
    "###############################\n",
    "\n",
    "\n",
    "labels = [\"B_Cells\", \"CD4+_T_Cells\", \"DCIS_1\", \"DCIS_2\", \"Invasive_Tumor\", \"Prolif_Invasive_Tumor\"]\n",
    "le = LabelEncoder()\n",
    "numeric_labels = le.fit_transform(labels)\n",
    "image_names = []\n",
    "for _ in numeric_labels:\n",
    "    image_names.append([])\n",
    "\n",
    "for (dir_path, dir_names, file_names) in os.walk(FOLDER_PATH):\n",
    "    parent_folder = os.path.basename(dir_path)\n",
    "    if parent_folder in labels: # Read the subset of dataset to reduce training time \n",
    "        for file in file_names:\n",
    "            image = cv2.imread(os.path.join(dir_path, file))\n",
    "            if image.shape[0] < 100 and image.shape[1] < 100: #skip the small image, it doesn't give much info\n",
    "                continue\n",
    "            numeric_label = le.transform([parent_folder])[0]\n",
    "            image_names[numeric_label].append(os.path.join(dir_path, file))\n",
    "\n",
    "###### several datasets with different transform. Put datasets in a list\n",
    "dataset = ImageDataSet(image_names, transform)\n",
    "##############"
   ]
  },
  {
   "cell_type": "code",
   "execution_count": 3,
   "id": "7c6fbf9d",
   "metadata": {},
   "outputs": [
    {
     "name": "stderr",
     "output_type": "stream",
     "text": [
      "c:\\Users\\brian\\Desktop\\DATA3888\\venv\\Lib\\site-packages\\torchvision\\models\\_utils.py:208: UserWarning: The parameter 'pretrained' is deprecated since 0.13 and may be removed in the future, please use 'weights' instead.\n",
      "  warnings.warn(\n",
      "c:\\Users\\brian\\Desktop\\DATA3888\\venv\\Lib\\site-packages\\torchvision\\models\\_utils.py:223: UserWarning: Arguments other than a weight enum or `None` for 'weights' are deprecated since 0.13 and may be removed in the future. The current behavior is equivalent to passing `weights=ResNet18_Weights.IMAGENET1K_V1`. You can also use `weights=ResNet18_Weights.DEFAULT` to get the most up-to-date weights.\n",
      "  warnings.warn(msg)\n"
     ]
    }
   ],
   "source": [
    "device = torch.device(\"cuda\" if torch.cuda.is_available() else \"cpu\") #check if the computer has GPU\n",
    "\n",
    "model = models.resnet18(pretrained=True)\n",
    "model.fc = nn.Linear(model.fc.in_features, len(image_names))\n",
    "model = model.to(device)"
   ]
  },
  {
   "cell_type": "code",
   "execution_count": 4,
   "id": "532a624a",
   "metadata": {},
   "outputs": [],
   "source": [
    "num_epochs = 100\n",
    "patience = 10 #for early stopping\n",
    "batch_size = 32\n",
    "learning_rate = 0.001\n",
    "\n",
    "criterion = nn.CrossEntropyLoss()\n",
    "optimizer = optim.Adam(model.parameters(), lr=learning_rate)"
   ]
  },
  {
   "cell_type": "code",
   "execution_count": null,
   "id": "442e41bf",
   "metadata": {},
   "outputs": [
    {
     "name": "stdout",
     "output_type": "stream",
     "text": [
      "Epoch [1/100], Loss: 0.5945\n",
      "Validation Loss: 0.6322, Accuracy: 69.25%\n",
      "Epoch [2/100], Loss: 0.5886\n",
      "Validation Loss: 0.6537, Accuracy: 65.38%\n",
      "Epoch [3/100], Loss: 0.5834\n",
      "Validation Loss: 0.6215, Accuracy: 68.45%\n",
      "Epoch [4/100], Loss: 0.5796\n",
      "Validation Loss: 0.6113, Accuracy: 68.45%\n",
      "Epoch [5/100], Loss: 0.5742\n",
      "Validation Loss: 0.6055, Accuracy: 69.54%\n",
      "Epoch [6/100], Loss: 0.5406\n",
      "Validation Loss: 0.6562, Accuracy: 66.96%\n",
      "Epoch [7/100], Loss: 0.5439\n",
      "Validation Loss: 0.8038, Accuracy: 58.73%\n",
      "Epoch [8/100], Loss: 0.5255\n",
      "Validation Loss: 0.6414, Accuracy: 66.77%\n",
      "Epoch [9/100], Loss: 0.4390\n",
      "Validation Loss: 0.7482, Accuracy: 64.58%\n",
      "Epoch [10/100], Loss: 0.3907\n",
      "Validation Loss: 0.8909, Accuracy: 62.80%\n",
      "Epoch [11/100], Loss: 0.3148\n",
      "Validation Loss: 1.0213, Accuracy: 61.21%\n",
      "Epoch [12/100], Loss: 0.2380\n",
      "Validation Loss: 0.9329, Accuracy: 63.49%\n",
      "Epoch [13/100], Loss: 0.2101\n",
      "Validation Loss: 0.9221, Accuracy: 66.77%\n",
      "Epoch [14/100], Loss: 0.1687\n",
      "Validation Loss: 1.9443, Accuracy: 58.83%\n",
      "Epoch [15/100], Loss: 0.1226\n",
      "Validation Loss: 1.5582, Accuracy: 62.60%\n",
      "No improvement for 10 epoches. Early stopping.\n"
     ]
    }
   ],
   "source": [
    "##################### Use for loop to have different dataloader\n",
    "_, subset = train_test_split(list(range(len(dataset))), test_size=0.5, random_state=0) #for faster training\n",
    "\n",
    "train_idx, temp_idx = train_test_split(subset, test_size=0.3, random_state=0)\n",
    "val_idx, test_idx = train_test_split(temp_idx, test_size=0.5, random_state=0)\n",
    "\n",
    "train_subset = Subset(dataset, train_idx)\n",
    "val_subset = Subset(dataset, val_idx)\n",
    "test_subset = Subset(dataset, test_idx)\n",
    "\n",
    "train_loader = DataLoader(train_subset, batch_size=batch_size, shuffle=False)\n",
    "val_loader = DataLoader(val_subset, batch_size=batch_size, shuffle=False)\n",
    "test_loader = DataLoader(test_subset, batch_size=batch_size, shuffle=False)\n",
    "###################\n",
    "\n",
    "\n",
    "best_val_loss = float('inf')\n",
    "epoch_no_improvement = 0\n",
    "best_model_parameters = None\n",
    "\n",
    "\n",
    "cnn_training_start = time.time()\n",
    "for epoch in range(num_epochs):\n",
    "    # Training phase\n",
    "    model.train()\n",
    "    running_loss = 0.0\n",
    "\n",
    "    for images, labels in train_loader:\n",
    "        images, labels = images.to(device), labels.to(device)\n",
    "        \n",
    "        optimizer.zero_grad()\n",
    "        outputs = model(images)\n",
    "        loss = criterion(outputs, labels)\n",
    "        loss.backward()\n",
    "        optimizer.step()\n",
    "        \n",
    "        running_loss += loss.item()\n",
    "    \n",
    "    print(f\"Epoch [{epoch+1}/{num_epochs}], Loss: {running_loss/len(train_loader):.4f}\")\n",
    "    \n",
    "    # Validation phase\n",
    "    model.eval()\n",
    "    val_loss = 0.0\n",
    "    correct = 0\n",
    "    total = 0\n",
    "    \n",
    "    with torch.no_grad():\n",
    "        for images, labels in val_loader:\n",
    "            images, labels = images.to(device), labels.to(device)\n",
    "            outputs = model(images)\n",
    "            loss = criterion(outputs, labels)\n",
    "            \n",
    "            val_loss += loss.item()\n",
    "            _, predicted = torch.max(outputs.data, 1)\n",
    "            total += labels.size(0)\n",
    "            correct += (predicted == labels).sum().item()\n",
    "    \n",
    "    avg_val_loss = val_loss/len(val_loader)\n",
    "    val_accuracy = 100 * correct / total\n",
    "    print(f\"Validation Loss: {avg_val_loss:.4f}, Accuracy: {val_accuracy:.2f}%\")\n",
    "\n",
    "    if avg_val_loss < best_val_loss:\n",
    "        best_val_loss = avg_val_loss\n",
    "        best_model_parameters = model.state_dict()\n",
    "        epoch_no_improvement = 0\n",
    "    else:\n",
    "        epoch_no_improvement += 1\n",
    "        if epoch_no_improvement == patience:\n",
    "            print(f\"No improvement for {patience} epoches. Early stopping.\")\n",
    "            break\n",
    "cnn_training_end = time.time()\n",
    "\n",
    "if best_model_parameters is not None:\n",
    "    model.load_state_dict(best_model_parameters)"
   ]
  },
  {
   "cell_type": "code",
   "execution_count": 9,
   "id": "172a49bb",
   "metadata": {},
   "outputs": [],
   "source": [
    "torch.save(model.state_dict(), 'B_CD4_CNN.pth')"
   ]
  },
  {
   "cell_type": "code",
   "execution_count": null,
   "id": "66753df3",
   "metadata": {},
   "outputs": [
    {
     "name": "stdout",
     "output_type": "stream",
     "text": [
      "0.628968253968254\n"
     ]
    }
   ],
   "source": [
    "############# for loop here as well\n",
    "model.eval()\n",
    "y_true = []\n",
    "y_pred = []\n",
    "\n",
    "with torch.no_grad():\n",
    "    for images, labels in test_loader:\n",
    "        images, labels = images.to(device), labels.to(device)\n",
    "        outputs = model(images)\n",
    "        _, predicted = torch.max(outputs.data, 1)\n",
    "        \n",
    "        y_true.extend(labels.cpu().numpy())\n",
    "        y_pred.extend(predicted.cpu().numpy())\n",
    "\n",
    "# print(classification_report(y_true, y_pred, target_names=[\"Tumor\", \"Immune\"]))\n",
    "pretrained_cnn_accuracy = accuracy_score(y_true, y_pred)\n",
    "print(pretrained_cnn_accuracy)\n",
    "##############"
   ]
  },
  {
   "cell_type": "code",
   "execution_count": 11,
   "id": "ff55167e",
   "metadata": {},
   "outputs": [
    {
     "data": {
      "image/png": "[encoded data removed]",
      "text/plain": [
       "<Figure size 640x480 with 2 Axes>"
      ]
     },
     "metadata": {},
     "output_type": "display_data"
    }
   ],
   "source": [
    "cm = confusion_matrix(y_true, y_pred)\n",
    "cm_display = ConfusionMatrixDisplay(confusion_matrix = cm, display_labels = le.classes_)\n",
    "\n",
    "cm_display.plot()\n",
    "plt.title(\"CNN Confusion Matrix\")\n",
    "plt.show()"
   ]
  }
 ],
 "metadata": {
  "kernelspec": {
   "display_name": "venv",
   "language": "python",
   "name": "python3"
  },
  "language_info": {
   "codemirror_mode": {
    "name": "ipython",
    "version": 3
   },
   "file_extension": ".py",
   "mimetype": "text/x-python",
   "name": "python",
   "nbconvert_exporter": "python",
   "pygments_lexer": "ipython3",
   "version": "3.13.1"
  }
 },
 "nbformat": 4,
 "nbformat_minor": 5
}
