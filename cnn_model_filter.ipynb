{
 "cells": [
  {
   "cell_type": "code",
   "execution_count": null,
   "id": "9eadc017",
   "metadata": {},
   "outputs": [],
   "source": [
    "import torch\n",
    "import torch.nn as nn\n",
    "import torch.nn.functional as F\n",
    "import torch.optim as optim\n",
    "from torch.utils.data import DataLoader, Dataset, Subset\n",
    "from torchvision import transforms, models\n",
    "from sklearn.model_selection import train_test_split, StratifiedKFold, cross_val_score\n",
    "from sklearn.ensemble import RandomForestClassifier\n",
    "from sklearn.svm import SVC\n",
    "from sklearn.neighbors import KNeighborsClassifier\n",
    "from sklearn.metrics import classification_report, accuracy_score, precision_score, confusion_matrix, ConfusionMatrixDisplay\n",
    "from sklearn.preprocessing import LabelEncoder\n",
    "import time\n",
    "import numpy as np\n",
    "import cv2\n",
    "from PIL import Image\n",
    "import os\n",
    "from matplotlib import pyplot as plt\n",
    "\n",
    "#Turn all the randomisation off to ensure the results of every execution is the same \n",
    "seed = 0\n",
    "np.random.seed(seed)\n",
    "torch.manual_seed(seed)\n",
    "torch.cuda.manual_seed(seed)\n",
    "torch.backends.cudnn.deterministic = True\n",
    "torch.backends.cudnn.benchmark = False"
   ]
  },
  {
   "cell_type": "markdown",
   "id": "fac6fa3f",
   "metadata": {},
   "source": [
    "### Define Image Dataset structure and image transform"
   ]
  },
  {
   "cell_type": "code",
   "execution_count": 2,
   "id": "01354cd1",
   "metadata": {},
   "outputs": [],
   "source": [
    "IMG_SIZE = 224\n",
    "FOLDER_PATH = \"Images/100\"\n",
    "\n",
    "class ImageDataSet(Dataset):\n",
    "    def __init__(self, image_names, transform):\n",
    "        self.file_names = []\n",
    "        self.labels = []\n",
    "        for numeric_label, names in enumerate(image_names):\n",
    "            self.labels.extend([numeric_label]*len(names))\n",
    "            self.file_names.extend(names)\n",
    "\n",
    "        self.transform = transform\n",
    "\n",
    "    def __getitem__(self, index):\n",
    "        img_name = self.file_names[index]\n",
    "        img = Image.open(img_name).convert('RGB')\n",
    "        img = self.transform(img)\n",
    "        label = self.labels[index]\n",
    "        return img, label\n",
    "    \n",
    "    def __len__(self):\n",
    "        return len(self.file_names)\n",
    "\n",
    "transform = transforms.Compose([\n",
    "    transforms.Resize((IMG_SIZE, IMG_SIZE)),\n",
    "    transforms.ToTensor(),\n",
    "    transforms.Normalize(mean=[0.485, 0.456, 0.406], std=[0.229, 0.224, 0.225]) #Offically used by Pytorch\n",
    "])\n",
    "\n",
    "\n",
    "# labels = [folder for folder in os.listdir(FOLDER_PATH)]\n",
    "labels = [\"Immune_Cells\", \"Non_Invasive_Tumor\", \"Invasive_Tumor_Set\"]\n",
    "le = LabelEncoder()\n",
    "numeric_labels = le.fit_transform(labels)\n",
    "image_names = []\n",
    "for _ in numeric_labels:\n",
    "    image_names.append([])\n",
    "\n",
    "for (dir_path, dir_names, file_names) in os.walk(FOLDER_PATH):\n",
    "    parent_folder = os.path.basename(dir_path)\n",
    "    if parent_folder in labels: # Read the subset of dataset to reduce training time \n",
    "        for file in file_names:\n",
    "            image = cv2.imread(os.path.join(dir_path, file))\n",
    "            if image.shape[0] < 100 and image.shape[1] < 100: #skip the small image, it doesn't give much info\n",
    "                continue\n",
    "            numeric_label = le.transform([parent_folder])[0]\n",
    "            image_names[numeric_label].append(os.path.join(dir_path, file))\n",
    "\n",
    "    \n",
    "dataset = ImageDataSet(image_names, transform)"
   ]
  },
  {
   "cell_type": "code",
   "execution_count": 3,
   "id": "7c6fbf9d",
   "metadata": {},
   "outputs": [
    {
     "name": "stderr",
     "output_type": "stream",
     "text": [
      "/home/falzgrandma/venvs/torch_rocm/lib/python3.12/site-packages/torchvision/models/_utils.py:208: UserWarning: The parameter 'pretrained' is deprecated since 0.13 and may be removed in the future, please use 'weights' instead.\n",
      "  warnings.warn(\n",
      "/home/falzgrandma/venvs/torch_rocm/lib/python3.12/site-packages/torchvision/models/_utils.py:223: UserWarning: Arguments other than a weight enum or `None` for 'weights' are deprecated since 0.13 and may be removed in the future. The current behavior is equivalent to passing `weights=ResNet18_Weights.IMAGENET1K_V1`. You can also use `weights=ResNet18_Weights.DEFAULT` to get the most up-to-date weights.\n",
      "  warnings.warn(msg)\n"
     ]
    }
   ],
   "source": [
    "device = torch.device(\"cuda\" if torch.cuda.is_available() else \"cpu\") #check if the computer has GPU\n",
    "\n",
    "model = models.resnet18(pretrained=True)\n",
    "model.fc = nn.Linear(model.fc.in_features, len(image_names))\n",
    "model = model.to(device)"
   ]
  },
  {
   "cell_type": "code",
   "execution_count": 4,
   "id": "532a624a",
   "metadata": {},
   "outputs": [],
   "source": [
    "# hyper-parameters setting\n",
    "num_epochs = 100\n",
    "patience = 10 #for early stopping\n",
    "batch_size = 32\n",
    "learning_rate = 0.001\n",
    "\n",
    "criterion = nn.CrossEntropyLoss()\n",
    "optimizer = optim.Adam(model.parameters(), lr=learning_rate)"
   ]
  },
  {
   "cell_type": "code",
   "execution_count": 5,
   "id": "756302ad",
   "metadata": {},
   "outputs": [],
   "source": [
    "_, subset = train_test_split(list(range(len(dataset))), test_size=0.5, random_state=0)\n",
    "\n",
    "train_idx, temp_idx = train_test_split(subset, test_size=0.3, random_state=0)\n",
    "val_idx, test_idx = train_test_split(temp_idx, test_size=0.5, random_state=0)\n",
    "\n",
    "train_subset = Subset(dataset, train_idx)\n",
    "val_subset = Subset(dataset, val_idx)\n",
    "test_subset = Subset(dataset, test_idx)\n",
    "\n",
    "train_loader = DataLoader(train_subset, batch_size=batch_size, shuffle=False)\n",
    "val_loader = DataLoader(val_subset, batch_size=batch_size, shuffle=False)\n",
    "test_loader = DataLoader(test_subset, batch_size=batch_size, shuffle=False)"
   ]
  },
  {
   "cell_type": "code",
   "execution_count": 6,
   "id": "442e41bf",
   "metadata": {},
   "outputs": [
    {
     "name": "stderr",
     "output_type": "stream",
     "text": [
      "/tmp/ipykernel_15380/2493946376.py:21: UserWarning: Converting a tensor with requires_grad=True to a scalar may lead to unexpected behavior.\n",
      "Consider using tensor.detach() first. (Triggered internally at /pytorch/aten/src/ATen/native/Scalar.cpp:22.)\n",
      "  running_loss += loss.item()\n"
     ]
    },
    {
     "name": "stdout",
     "output_type": "stream",
     "text": [
      "Epoch [1/100], Loss: 0.3506\n",
      "Validation Loss: 0.5454, Accuracy: 74.72%\n",
      "Epoch [2/100], Loss: 0.2400\n",
      "Validation Loss: 0.2924, Accuracy: 89.57%\n",
      "Epoch [3/100], Loss: 0.2058\n",
      "Validation Loss: 0.4298, Accuracy: 83.80%\n",
      "Epoch [4/100], Loss: 0.1749\n",
      "Validation Loss: 0.6530, Accuracy: 83.41%\n",
      "Epoch [5/100], Loss: 0.1502\n",
      "Validation Loss: 0.3741, Accuracy: 86.93%\n",
      "Epoch [6/100], Loss: 0.1260\n",
      "Validation Loss: 0.8352, Accuracy: 55.73%\n",
      "Epoch [7/100], Loss: 0.1046\n",
      "Validation Loss: 0.5689, Accuracy: 70.13%\n",
      "Epoch [8/100], Loss: 0.0842\n",
      "Validation Loss: 0.4022, Accuracy: 89.29%\n",
      "Epoch [9/100], Loss: 0.0692\n",
      "Validation Loss: 0.5088, Accuracy: 88.85%\n",
      "Epoch [10/100], Loss: 0.0554\n",
      "Validation Loss: 0.5457, Accuracy: 91.29%\n",
      "Epoch [11/100], Loss: 0.0525\n",
      "Validation Loss: 0.7335, Accuracy: 81.77%\n",
      "Epoch [12/100], Loss: 0.0473\n",
      "Validation Loss: 0.3844, Accuracy: 91.48%\n",
      "No improvement for 10 epoches. Early stopping.\n"
     ]
    }
   ],
   "source": [
    "best_val_loss = float('inf')\n",
    "epoch_no_improvement = 0\n",
    "best_model_parameters = None\n",
    "\n",
    "\n",
    "cnn_training_start = time.time()\n",
    "for epoch in range(num_epochs):\n",
    "    # Training phase\n",
    "    model.train()\n",
    "    running_loss = 0.0\n",
    "\n",
    "    for images, labels in train_loader:\n",
    "        images, labels = images.to(device), labels.to(device)\n",
    "        \n",
    "        optimizer.zero_grad()\n",
    "        outputs = model(images)\n",
    "        loss = criterion(outputs, labels)\n",
    "        loss.backward()\n",
    "        optimizer.step()\n",
    "        \n",
    "        running_loss += loss.item()\n",
    "    \n",
    "    print(f\"Epoch [{epoch+1}/{num_epochs}], Loss: {running_loss/len(train_loader):.4f}\")\n",
    "    \n",
    "    # Validation phase\n",
    "    model.eval()\n",
    "    val_loss = 0.0\n",
    "    correct = 0\n",
    "    total = 0\n",
    "    \n",
    "    with torch.no_grad():\n",
    "        for images, labels in val_loader:\n",
    "            images, labels = images.to(device), labels.to(device)\n",
    "            outputs = model(images)\n",
    "            loss = criterion(outputs, labels)\n",
    "            \n",
    "            val_loss += loss.item()\n",
    "            _, predicted = torch.max(outputs.data, 1)\n",
    "            total += labels.size(0)\n",
    "            correct += (predicted == labels).sum().item()\n",
    "    \n",
    "    avg_val_loss = val_loss/len(val_loader)\n",
    "    val_accuracy = 100 * correct / total\n",
    "    print(f\"Validation Loss: {avg_val_loss:.4f}, Accuracy: {val_accuracy:.2f}%\")\n",
    "\n",
    "    if avg_val_loss < best_val_loss:\n",
    "        best_val_loss = avg_val_loss\n",
    "        best_model_parameters = model.state_dict()\n",
    "        epoch_no_improvement = 0\n",
    "    else:\n",
    "        epoch_no_improvement += 1\n",
    "        if epoch_no_improvement == patience:\n",
    "            print(f\"No improvement for {patience} epoches. Early stopping.\")\n",
    "            break\n",
    "cnn_training_end = time.time()\n",
    "\n",
    "if best_model_parameters is not None:\n",
    "    model.load_state_dict(best_model_parameters)"
   ]
  },
  {
   "cell_type": "code",
   "execution_count": 7,
   "id": "172a49bb",
   "metadata": {},
   "outputs": [],
   "source": [
    "torch.save(model.state_dict(), 'CNN_model.pth')"
   ]
  },
  {
   "cell_type": "code",
   "execution_count": 8,
   "id": "66753df3",
   "metadata": {},
   "outputs": [
    {
     "name": "stdout",
     "output_type": "stream",
     "text": [
      "0.9202099737532808\n"
     ]
    }
   ],
   "source": [
    "model.eval()\n",
    "y_true = []\n",
    "y_pred = []\n",
    "\n",
    "with torch.no_grad():\n",
    "    for images, labels in test_loader:\n",
    "        images, labels = images.to(device), labels.to(device)\n",
    "        outputs = model(images)\n",
    "        _, predicted = torch.max(outputs.data, 1)\n",
    "        \n",
    "        y_true.extend(labels.cpu().numpy())\n",
    "        y_pred.extend(predicted.cpu().numpy())\n",
    "\n",
    "# print(classification_report(y_true, y_pred, target_names=[\"Tumor\", \"Immune\"]))\n",
    "pretrained_cnn_accuracy = accuracy_score(y_true, y_pred)\n",
    "print(pretrained_cnn_accuracy)"
   ]
  },
  {
   "cell_type": "code",
   "execution_count": 9,
   "id": "ff55167e",
   "metadata": {},
   "outputs": [
    {
     "data": {
      "image/png": "[encoded data removed]",
      "text/plain": [
       "<Figure size 640x480 with 2 Axes>"
      ]
     },
     "metadata": {},
     "output_type": "display_data"
    }
   ],
   "source": [
    "cm = confusion_matrix(y_true, y_pred)\n",
    "cm_display = ConfusionMatrixDisplay(confusion_matrix = cm, display_labels = le.classes_)\n",
    "\n",
    "cm_display.plot()\n",
    "plt.title(\"CNN Confusion Matrix\")\n",
    "plt.show()"
   ]
  },
  {
   "cell_type": "code",
   "execution_count": 10,
   "id": "1060d97f",
   "metadata": {},
   "outputs": [
    {
     "name": "stdout",
     "output_type": "stream",
     "text": [
      "CUDA is available\n",
      "GPU name: AMD Radeon RX 9070 XT\n",
      "_CudaDeviceProperties(name='AMD Radeon RX 9070 XT', major=12, minor=0, gcnArchName='gfx1201', total_memory=16304MB, multi_processor_count=32, uuid=34663438-3437-3537-6332-333330663936, L2_cache_size=8MB)\n"
     ]
    }
   ],
   "source": [
    "\n",
    "if torch.cuda.is_available():\n",
    "    print(\"CUDA is available\")\n",
    "    # You can proceed to verify GPU properties\n",
    "else:\n",
    "    print(\"CUDA is not available\")\n",
    "    # PyTorch might not be utilizing the AMD GPU\n",
    "\n",
    "\n",
    "if torch.cuda.is_available():\n",
    "    device_name = torch.cuda.get_device_name(0) # 0 is the default device\n",
    "    print(f\"GPU name: {device_name}\")\n",
    "    device_properties = torch.cuda.get_device_properties(0)\n",
    "    print(device_properties)"
   ]
  },
  {
   "cell_type": "markdown",
   "id": "64374100",
   "metadata": {},
   "source": [
    "## Training using gaussian blurry images"
   ]
  },
  {
   "cell_type": "code",
   "execution_count": 12,
   "id": "7324f636",
   "metadata": {},
   "outputs": [],
   "source": [
    "# labels = [folder for folder in os.listdir(FOLDER_PATH)]\n",
    "labels = [\"Immune_Cells_Gaussian_5\", \"Non_Invasive_Tumor_Gaussian_5\", \"Invasive_Tumor_Set_Gaussian_5\"]\n",
    "le = LabelEncoder()\n",
    "numeric_labels = le.fit_transform(labels)\n",
    "image_names = []\n",
    "for _ in numeric_labels:\n",
    "    image_names.append([])\n",
    "\n",
    "for (dir_path, dir_names, file_names) in os.walk(FOLDER_PATH):\n",
    "    parent_folder = os.path.basename(dir_path)\n",
    "    if parent_folder in labels: # Read the subset of dataset to reduce training time \n",
    "        for file in file_names:\n",
    "            image = cv2.imread(os.path.join(dir_path, file))\n",
    "            if image.shape[0] < 100 and image.shape[1] < 100: #skip the small image, it doesn't give much info\n",
    "                continue\n",
    "            numeric_label = le.transform([parent_folder])[0]\n",
    "            image_names[numeric_label].append(os.path.join(dir_path, file))\n",
    "\n",
    "    \n",
    "dataset = ImageDataSet(image_names, transform)"
   ]
  },
  {
   "cell_type": "code",
   "execution_count": 13,
   "id": "dc995d5b",
   "metadata": {},
   "outputs": [],
   "source": [
    "_, subset = train_test_split(list(range(len(dataset))), test_size=0.5, random_state=0)\n",
    "\n",
    "train_idx, temp_idx = train_test_split(subset, test_size=0.3, random_state=0)\n",
    "val_idx, test_idx = train_test_split(temp_idx, test_size=0.5, random_state=0)\n",
    "\n",
    "train_subset = Subset(dataset, train_idx)\n",
    "val_subset = Subset(dataset, val_idx)\n",
    "test_subset = Subset(dataset, test_idx)\n",
    "\n",
    "train_loader = DataLoader(train_subset, batch_size=batch_size, shuffle=False)\n",
    "val_loader = DataLoader(val_subset, batch_size=batch_size, shuffle=False)\n",
    "test_loader = DataLoader(test_subset, batch_size=batch_size, shuffle=False)"
   ]
  },
  {
   "cell_type": "code",
   "execution_count": 14,
   "id": "837d876d",
   "metadata": {},
   "outputs": [
    {
     "name": "stdout",
     "output_type": "stream",
     "text": [
      "Epoch [1/100], Loss: 0.1846\n",
      "Validation Loss: 0.2258, Accuracy: 92.48%\n",
      "Epoch [2/100], Loss: 0.0920\n",
      "Validation Loss: 1.3616, Accuracy: 64.41%\n",
      "Epoch [3/100], Loss: 0.0634\n",
      "Validation Loss: 0.3484, Accuracy: 92.41%\n",
      "Epoch [4/100], Loss: 0.0501\n",
      "Validation Loss: 0.3635, Accuracy: 93.04%\n",
      "Epoch [5/100], Loss: 0.0443\n",
      "Validation Loss: 0.2519, Accuracy: 93.33%\n",
      "Epoch [6/100], Loss: 0.0339\n",
      "Validation Loss: 0.4167, Accuracy: 88.01%\n",
      "Epoch [7/100], Loss: 0.0316\n",
      "Validation Loss: 0.2842, Accuracy: 92.25%\n",
      "Epoch [8/100], Loss: 0.0311\n",
      "Validation Loss: 0.3213, Accuracy: 93.33%\n",
      "Epoch [9/100], Loss: 0.0234\n",
      "Validation Loss: 0.2959, Accuracy: 93.53%\n",
      "Epoch [10/100], Loss: 0.0262\n",
      "Validation Loss: 0.8554, Accuracy: 80.58%\n",
      "Epoch [11/100], Loss: 0.0221\n",
      "Validation Loss: 0.4358, Accuracy: 92.00%\n",
      "No improvement for 10 epoches. Early stopping.\n"
     ]
    }
   ],
   "source": [
    "best_val_loss = float('inf')\n",
    "epoch_no_improvement = 0\n",
    "best_model_parameters = None\n",
    "\n",
    "\n",
    "cnn_training_start = time.time()\n",
    "for epoch in range(num_epochs):\n",
    "    # Training phase\n",
    "    model.train()\n",
    "    running_loss = 0.0\n",
    "\n",
    "    for images, labels in train_loader:\n",
    "        images, labels = images.to(device), labels.to(device)\n",
    "        \n",
    "        optimizer.zero_grad()\n",
    "        outputs = model(images)\n",
    "        loss = criterion(outputs, labels)\n",
    "        loss.backward()\n",
    "        optimizer.step()\n",
    "        \n",
    "        running_loss += loss.item()\n",
    "    \n",
    "    print(f\"Epoch [{epoch+1}/{num_epochs}], Loss: {running_loss/len(train_loader):.4f}\")\n",
    "    \n",
    "    # Validation phase\n",
    "    model.eval()\n",
    "    val_loss = 0.0\n",
    "    correct = 0\n",
    "    total = 0\n",
    "    \n",
    "    with torch.no_grad():\n",
    "        for images, labels in val_loader:\n",
    "            images, labels = images.to(device), labels.to(device)\n",
    "            outputs = model(images)\n",
    "            loss = criterion(outputs, labels)\n",
    "            \n",
    "            val_loss += loss.item()\n",
    "            _, predicted = torch.max(outputs.data, 1)\n",
    "            total += labels.size(0)\n",
    "            correct += (predicted == labels).sum().item()\n",
    "    \n",
    "    avg_val_loss = val_loss/len(val_loader)\n",
    "    val_accuracy = 100 * correct / total\n",
    "    print(f\"Validation Loss: {avg_val_loss:.4f}, Accuracy: {val_accuracy:.2f}%\")\n",
    "\n",
    "    if avg_val_loss < best_val_loss:\n",
    "        best_val_loss = avg_val_loss\n",
    "        best_model_parameters = model.state_dict()\n",
    "        epoch_no_improvement = 0\n",
    "    else:\n",
    "        epoch_no_improvement += 1\n",
    "        if epoch_no_improvement == patience:\n",
    "            print(f\"No improvement for {patience} epoches. Early stopping.\")\n",
    "            break\n",
    "cnn_training_end = time.time()\n",
    "\n",
    "if best_model_parameters is not None:\n",
    "    model.load_state_dict(best_model_parameters)"
   ]
  },
  {
   "cell_type": "code",
   "execution_count": 15,
   "id": "dcfd701f",
   "metadata": {},
   "outputs": [],
   "source": [
    "torch.save(model.state_dict(), 'CNN_model.pth')"
   ]
  },
  {
   "cell_type": "code",
   "execution_count": 16,
   "id": "779aa637",
   "metadata": {},
   "outputs": [
    {
     "name": "stdout",
     "output_type": "stream",
     "text": [
      "0.925984251968504\n"
     ]
    }
   ],
   "source": [
    "model.eval()\n",
    "y_true = []\n",
    "y_pred = []\n",
    "\n",
    "with torch.no_grad():\n",
    "    for images, labels in test_loader:\n",
    "        images, labels = images.to(device), labels.to(device)\n",
    "        outputs = model(images)\n",
    "        _, predicted = torch.max(outputs.data, 1)\n",
    "        \n",
    "        y_true.extend(labels.cpu().numpy())\n",
    "        y_pred.extend(predicted.cpu().numpy())\n",
    "\n",
    "# print(classification_report(y_true, y_pred, target_names=[\"Tumor\", \"Immune\"]))\n",
    "pretrained_cnn_accuracy = accuracy_score(y_true, y_pred)\n",
    "print(pretrained_cnn_accuracy)"
   ]
  },
  {
   "cell_type": "code",
   "execution_count": 17,
   "id": "6589a702",
   "metadata": {},
   "outputs": [
    {
     "data": {
      "image/png": "[encoded data removed]",
      "text/plain": [
       "<Figure size 640x480 with 2 Axes>"
      ]
     },
     "metadata": {},
     "output_type": "display_data"
    }
   ],
   "source": [
    "cm = confusion_matrix(y_true, y_pred)\n",
    "cm_display = ConfusionMatrixDisplay(confusion_matrix = cm, display_labels = le.classes_)\n",
    "\n",
    "cm_display.plot()\n",
    "plt.title(\"CNN Confusion Matrix\")\n",
    "plt.show()"
   ]
  },
  {
   "cell_type": "markdown",
   "id": "5a2d039b",
   "metadata": {},
   "source": [
    "## Training using Median blurry images"
   ]
  },
  {
   "cell_type": "code",
   "execution_count": null,
   "id": "51b810b8",
   "metadata": {},
   "outputs": [],
   "source": [
    "# labels = [folder for folder in os.listdir(FOLDER_PATH)]\n",
    "labels = [\"Immune_Cells_Median_5\", \"Non_Invasive_Tumor_Median_5\", \"Invasive_Tumor_Set_Median_5\"]\n",
    "le = LabelEncoder()\n",
    "numeric_labels = le.fit_transform(labels)\n",
    "image_names = []\n",
    "for _ in numeric_labels:\n",
    "    image_names.append([])\n",
    "\n",
    "for (dir_path, dir_names, file_names) in os.walk(FOLDER_PATH):\n",
    "    parent_folder = os.path.basename(dir_path)\n",
    "    if parent_folder in labels: # Read the subset of dataset to reduce training time \n",
    "        for file in file_names:\n",
    "            image = cv2.imread(os.path.join(dir_path, file))\n",
    "            if image.shape[0] < 100 and image.shape[1] < 100: #skip the small image, it doesn't give much info\n",
    "                continue\n",
    "            numeric_label = le.transform([parent_folder])[0]\n",
    "            image_names[numeric_label].append(os.path.join(dir_path, file))\n",
    "\n",
    "    \n",
    "dataset = ImageDataSet(image_names, transform)"
   ]
  },
  {
   "cell_type": "code",
   "execution_count": null,
   "id": "66277576",
   "metadata": {},
   "outputs": [],
   "source": [
    "_, subset = train_test_split(list(range(len(dataset))), test_size=0.5, random_state=0)\n",
    "\n",
    "train_idx, temp_idx = train_test_split(subset, test_size=0.3, random_state=0)\n",
    "val_idx, test_idx = train_test_split(temp_idx, test_size=0.5, random_state=0)\n",
    "\n",
    "train_subset = Subset(dataset, train_idx)\n",
    "val_subset = Subset(dataset, val_idx)\n",
    "test_subset = Subset(dataset, test_idx)\n",
    "\n",
    "train_loader = DataLoader(train_subset, batch_size=batch_size, shuffle=False)\n",
    "val_loader = DataLoader(val_subset, batch_size=batch_size, shuffle=False)\n",
    "test_loader = DataLoader(test_subset, batch_size=batch_size, shuffle=False)"
   ]
  },
  {
   "cell_type": "code",
   "execution_count": null,
   "id": "34aa6833",
   "metadata": {},
   "outputs": [],
   "source": [
    "best_val_loss = float('inf')\n",
    "epoch_no_improvement = 0\n",
    "best_model_parameters = None\n",
    "\n",
    "\n",
    "cnn_training_start = time.time()\n",
    "for epoch in range(num_epochs):\n",
    "    # Training phase\n",
    "    model.train()\n",
    "    running_loss = 0.0\n",
    "\n",
    "    for images, labels in train_loader:\n",
    "        images, labels = images.to(device), labels.to(device)\n",
    "        \n",
    "        optimizer.zero_grad()\n",
    "        outputs = model(images)\n",
    "        loss = criterion(outputs, labels)\n",
    "        loss.backward()\n",
    "        optimizer.step()\n",
    "        \n",
    "        running_loss += loss.item()\n",
    "    \n",
    "    print(f\"Epoch [{epoch+1}/{num_epochs}], Loss: {running_loss/len(train_loader):.4f}\")\n",
    "    \n",
    "    # Validation phase\n",
    "    model.eval()\n",
    "    val_loss = 0.0\n",
    "    correct = 0\n",
    "    total = 0\n",
    "    \n",
    "    with torch.no_grad():\n",
    "        for images, labels in val_loader:\n",
    "            images, labels = images.to(device), labels.to(device)\n",
    "            outputs = model(images)\n",
    "            loss = criterion(outputs, labels)\n",
    "            \n",
    "            val_loss += loss.item()\n",
    "            _, predicted = torch.max(outputs.data, 1)\n",
    "            total += labels.size(0)\n",
    "            correct += (predicted == labels).sum().item()\n",
    "    \n",
    "    avg_val_loss = val_loss/len(val_loader)\n",
    "    val_accuracy = 100 * correct / total\n",
    "    print(f\"Validation Loss: {avg_val_loss:.4f}, Accuracy: {val_accuracy:.2f}%\")\n",
    "\n",
    "    if avg_val_loss < best_val_loss:\n",
    "        best_val_loss = avg_val_loss\n",
    "        best_model_parameters = model.state_dict()\n",
    "        epoch_no_improvement = 0\n",
    "    else:\n",
    "        epoch_no_improvement += 1\n",
    "        if epoch_no_improvement == patience:\n",
    "            print(f\"No improvement for {patience} epoches. Early stopping.\")\n",
    "            break\n",
    "cnn_training_end = time.time()\n",
    "\n",
    "if best_model_parameters is not None:\n",
    "    model.load_state_dict(best_model_parameters)"
   ]
  },
  {
   "cell_type": "code",
   "execution_count": null,
   "id": "e87ff5c6",
   "metadata": {},
   "outputs": [],
   "source": [
    "torch.save(model.state_dict(), 'CNN_model.pth')"
   ]
  },
  {
   "cell_type": "code",
   "execution_count": null,
   "id": "38be780a",
   "metadata": {},
   "outputs": [],
   "source": [
    "model.eval()\n",
    "y_true = []\n",
    "y_pred = []\n",
    "\n",
    "with torch.no_grad():\n",
    "    for images, labels in test_loader:\n",
    "        images, labels = images.to(device), labels.to(device)\n",
    "        outputs = model(images)\n",
    "        _, predicted = torch.max(outputs.data, 1)\n",
    "        \n",
    "        y_true.extend(labels.cpu().numpy())\n",
    "        y_pred.extend(predicted.cpu().numpy())\n",
    "\n",
    "# print(classification_report(y_true, y_pred, target_names=[\"Tumor\", \"Immune\"]))\n",
    "pretrained_cnn_accuracy = accuracy_score(y_true, y_pred)\n",
    "print(pretrained_cnn_accuracy)"
   ]
  },
  {
   "cell_type": "code",
   "execution_count": null,
   "id": "b7b9240a",
   "metadata": {},
   "outputs": [],
   "source": [
    "cm = confusion_matrix(y_true, y_pred)\n",
    "cm_display = ConfusionMatrixDisplay(confusion_matrix = cm, display_labels = le.classes_)\n",
    "\n",
    "cm_display.plot()\n",
    "plt.title(\"CNN Confusion Matrix\")\n",
    "plt.show()"
   ]
  }
 ],
 "metadata": {
  "kernelspec": {
   "display_name": "venv",
   "language": "python",
   "name": "python3"
  },
  "language_info": {
   "codemirror_mode": {
    "name": "ipython",
    "version": 3
   },
   "file_extension": ".py",
   "mimetype": "text/x-python",
   "name": "python",
   "nbconvert_exporter": "python",
   "pygments_lexer": "ipython3",
   "version": "3.13.1"
  }
 },
 "nbformat": 4,
 "nbformat_minor": 5
}
