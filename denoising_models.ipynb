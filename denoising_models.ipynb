{
 "cells": [
  {
   "cell_type": "code",
   "execution_count": null,
   "id": "9cb45f03",
   "metadata": {},
   "outputs": [],
   "source": [
    "import torch\n",
    "import torch.nn as nn\n",
    "import torch.nn.functional as F\n",
    "import torch.optim as optim\n",
    "from torch.utils.data import DataLoader, Dataset, Subset\n",
    "from torchvision import transforms, models\n",
    "from sklearn.model_selection import train_test_split, StratifiedKFold, cross_val_score\n",
    "from sklearn.ensemble import RandomForestClassifier\n",
    "from sklearn.svm import SVC\n",
    "from sklearn.neighbors import KNeighborsClassifier\n",
    "from sklearn.metrics import classification_report, accuracy_score, f1_score, confusion_matrix, ConfusionMatrixDisplay\n",
    "from sklearn.preprocessing import LabelEncoder\n",
    "import time\n",
    "import numpy as np\n",
    "import cv2\n",
    "from PIL import Image\n",
    "import os\n",
    "from matplotlib import pyplot as plt\n",
    "from resotrmer import Restormer_Denoise\n",
    "\n",
    "#Turn all the randomisation off to ensure the results of every execution is the same \n",
    "seed = 0\n",
    "np.random.seed(seed)\n",
    "torch.manual_seed(seed)\n",
    "torch.cuda.manual_seed(seed)\n",
    "torch.backends.cudnn.deterministic = True\n",
    "torch.backends.cudnn.benchmark = False"
   ]
  },
  {
   "cell_type": "markdown",
   "id": "051a4b32",
   "metadata": {},
   "source": [
    "### Global variables"
   ]
  },
  {
   "cell_type": "code",
   "execution_count": null,
   "id": "9735a28d",
   "metadata": {},
   "outputs": [],
   "source": [
    "IMG_SIZE = 224\n",
    "FOLDER_PATH = \"Images/100\""
   ]
  },
  {
   "cell_type": "markdown",
   "id": "8bd19297",
   "metadata": {},
   "source": [
    "### Denoising Strategy"
   ]
  },
  {
   "cell_type": "code",
   "execution_count": null,
   "id": "240b905f",
   "metadata": {},
   "outputs": [],
   "source": [
    "restomer = Restormer_Denoise(\"blind\")\n",
    "\n",
    "def denoise_none(img):\n",
    "    return img\n",
    "\n",
    "denoise_methods = {\n",
    "    \"None\": denoise_none,\n",
    "    \"Restormer\": restomer.denoise_image,\n",
    "    # \"Gaussian_Blur\": g_blur,\n",
    "    # \"Median_Blur\": m_blur,\n",
    "    # \"DnCNN\": ...\n",
    "}\n",
    "\n",
    "def build_transform(denoise_method: str) -> transforms.Compose:\n",
    "    denoise_fn = denoise_methods.get(denoise_method, denoise_none)\n",
    "\n",
    "    return transforms.Compose([\n",
    "        transforms.Lambda(denoise_fn),\n",
    "        transforms.Resize((IMG_SIZE, IMG_SIZE)),\n",
    "        transforms.ToTensor(),\n",
    "        transforms.Normalize(mean=[0.485, 0.456, 0.406], std=[0.229, 0.224, 0.225])\n",
    "    ])"
   ]
  },
  {
   "cell_type": "markdown",
   "id": "d4df20f2",
   "metadata": {},
   "source": [
    "### Define Image Dataset structure and image transform"
   ]
  },
  {
   "cell_type": "code",
   "execution_count": null,
   "id": "8e3b14e2",
   "metadata": {},
   "outputs": [],
   "source": [
    "class ImageDataSet(Dataset):\n",
    "    def __init__(self, image_names, transform):\n",
    "        self.file_names = []\n",
    "        self.labels = []\n",
    "        for numeric_label, names in enumerate(image_names):\n",
    "            self.labels.extend([numeric_label]*len(names))\n",
    "            self.file_names.extend(names)\n",
    "\n",
    "        self.transform = transform\n",
    "\n",
    "    def __getitem__(self, index):\n",
    "        img_name = self.file_names[index]\n",
    "        img = Image.open(img_name).convert('RGB')\n",
    "        img = self.transform(img)\n",
    "        label = self.labels[index]\n",
    "        return img, label\n",
    "    \n",
    "    def __len__(self):\n",
    "        return len(self.file_names)\n",
    "\n",
    "# labels = [\"B_Cells\", \"CD4+_T_Cells\", \"DCIS_1\", \"DCIS_2\", \"Invasive_Tumor\", \"Prolif_Invasive_Tumor\"]\n",
    "labels = [\"Immune_Cells\", \"Non_Invasive_Tumor\", \"Invasive_Tumor_Set\"]\n",
    "le = LabelEncoder()\n",
    "numeric_labels = le.fit_transform(labels)\n",
    "image_names = []\n",
    "for _ in numeric_labels:\n",
    "    image_names.append([])\n",
    "\n",
    "for (dir_path, dir_names, file_names) in os.walk(FOLDER_PATH):\n",
    "    parent_folder = os.path.basename(dir_path)\n",
    "    if parent_folder in labels: # Read the subset of dataset to reduce training time \n",
    "        for file in file_names:\n",
    "            image = cv2.imread(os.path.join(dir_path, file))\n",
    "            if image.shape[0] < 100 and image.shape[1] < 100: #skip the small image, it doesn't give much info\n",
    "                continue\n",
    "            numeric_label = le.transform([parent_folder])[0]\n",
    "            image_names[numeric_label].append(os.path.join(dir_path, file))\n",
    "\n",
    "\n",
    "denoising_datasets = {key : ImageDataSet(image_names, build_transform(key)) for key in denoise_methods.keys()}"
   ]
  },
  {
   "cell_type": "code",
   "execution_count": null,
   "id": "e58d79a9",
   "metadata": {},
   "outputs": [],
   "source": [
    "device = torch.device(\"cuda\" if torch.cuda.is_available() else \"cpu\") #check if the computer has GPU\n",
    "\n",
    "model = models.resnet18(pretrained=True)\n",
    "model.fc = nn.Linear(model.fc.in_features, len(image_names))\n",
    "model = model.to(device)\n",
    "\n",
    "denoising_models = {key : model for key in denoise_methods.keys()}"
   ]
  },
  {
   "cell_type": "code",
   "execution_count": null,
   "id": "64124e5e",
   "metadata": {},
   "outputs": [],
   "source": [
    "# hyper-parameters setting\n",
    "num_epochs = 100\n",
    "patience = 10 #for early stopping\n",
    "batch_size = 32\n",
    "learning_rate = 0.001\n",
    "\n",
    "criterion = nn.CrossEntropyLoss()\n",
    "optimizer = optim.Adam(model.parameters(), lr=learning_rate)"
   ]
  },
  {
   "cell_type": "code",
   "execution_count": null,
   "id": "9806ab34",
   "metadata": {},
   "outputs": [],
   "source": [
    "def split_dataset(dataset: ImageDataSet) -> list[DataLoader]:\n",
    "    train_idx, temp_idx = train_test_split(list(range(len(dataset))), test_size=0.3, random_state=0)\n",
    "    val_idx, test_idx = train_test_split(temp_idx, test_size=0.5, random_state=0)\n",
    "\n",
    "    train_subset = Subset(dataset, train_idx)\n",
    "    val_subset = Subset(dataset, val_idx)\n",
    "    test_subset = Subset(dataset, test_idx)\n",
    "\n",
    "    train_loader = DataLoader(train_subset, batch_size=batch_size, shuffle=False)\n",
    "    val_loader = DataLoader(val_subset, batch_size=batch_size, shuffle=False)\n",
    "    test_loader = DataLoader(test_subset, batch_size=batch_size, shuffle=False)\n",
    "\n",
    "    return train_loader, val_loader, test_loader"
   ]
  },
  {
   "cell_type": "markdown",
   "id": "13c1197a",
   "metadata": {},
   "source": [
    "### Model training"
   ]
  },
  {
   "cell_type": "code",
   "execution_count": null,
   "id": "7afac9a3",
   "metadata": {},
   "outputs": [],
   "source": [
    "best_val_loss = float('inf')\n",
    "epoch_no_improvement = 0\n",
    "best_model_parameters = None\n",
    "loss_curves = {key : [] for key in denoise_methods.keys()}\n",
    "\n",
    "for denoise, model in denoising_models.items():\n",
    "    print(f\"Start training {denoise} model.\")\n",
    "    train_loader, val_loader, _ = split_dataset(denoising_datasets.get(denoise))\n",
    "    for epoch in range(num_epochs):\n",
    "        # Training phase\n",
    "        model.train()\n",
    "        running_loss = 0.0\n",
    "\n",
    "        for images, labels in train_loader:\n",
    "            images, labels = images.to(device), labels.to(device)\n",
    "            \n",
    "            optimizer.zero_grad()\n",
    "            outputs = model(images)\n",
    "            loss = criterion(outputs, labels)\n",
    "            loss.backward()\n",
    "            optimizer.step()\n",
    "            \n",
    "            running_loss += loss.item()\n",
    "        \n",
    "        print(f\"Epoch [{epoch+1}/{num_epochs}], Loss: {running_loss/len(train_loader):.4f}\")\n",
    "        \n",
    "        # Validation phase\n",
    "        model.eval()\n",
    "        val_loss = 0.0\n",
    "        correct = 0\n",
    "        total = 0\n",
    "        \n",
    "        with torch.no_grad():\n",
    "            for images, labels in val_loader:\n",
    "                images, labels = images.to(device), labels.to(device)\n",
    "                outputs = model(images)\n",
    "                loss = criterion(outputs, labels)\n",
    "                \n",
    "                val_loss += loss.item()\n",
    "                _, predicted = torch.max(outputs.data, 1)\n",
    "                total += labels.size(0)\n",
    "                correct += (predicted == labels).sum().item()\n",
    "        \n",
    "        avg_val_loss = val_loss/len(val_loader)\n",
    "        val_accuracy = 100 * correct / total\n",
    "        print(f\"Validation Loss: {avg_val_loss:.4f}, Accuracy: {val_accuracy:.2f}%\")\n",
    "        loss_curves[denoise].append(avg_val_loss)\n",
    "\n",
    "        if avg_val_loss < best_val_loss:\n",
    "            best_val_loss = avg_val_loss\n",
    "            best_model_parameters = model.state_dict()\n",
    "            epoch_no_improvement = 0\n",
    "        else:\n",
    "            epoch_no_improvement += 1\n",
    "            if epoch_no_improvement == patience:\n",
    "                print(f\"No improvement for {patience} epoches. Early stopping.\")\n",
    "                break\n",
    "\n",
    "    if best_model_parameters is not None:\n",
    "        model.load_state_dict(best_model_parameters)"
   ]
  },
  {
   "cell_type": "code",
   "execution_count": null,
   "id": "3a355b2c",
   "metadata": {},
   "outputs": [],
   "source": [
    "for denoise, model in denoising_models:\n",
    "    torch.save(model.state_dict(), f'denoise_models/{denoise}.pth')"
   ]
  },
  {
   "cell_type": "markdown",
   "id": "e63e0dc9",
   "metadata": {},
   "source": [
    "### Evaluation"
   ]
  },
  {
   "cell_type": "code",
   "execution_count": null,
   "id": "2717325f",
   "metadata": {},
   "outputs": [],
   "source": [
    "accuracies = {{key : -1 for key in denoise_methods.keys()}}\n",
    "f1_scores = {{key : -1 for key in denoise_methods.keys()}}\n",
    "confusion_metrics = {{key : None for key in denoise_methods.keys()}}\n",
    "\n",
    "for denoise, model in denoising_models.items():\n",
    "    _, _, test_loader = split_dataset(denoising_datasets.get(denoise))\n",
    "    model.eval()\n",
    "    y_true = []\n",
    "    y_pred = []\n",
    "\n",
    "    with torch.no_grad():\n",
    "        for images, labels in test_loader:\n",
    "            images, labels = images.to(device), labels.to(device)\n",
    "            outputs = model(images)\n",
    "            _, predicted = torch.max(outputs.data, 1)\n",
    "            \n",
    "            y_true.extend(labels.cpu().numpy())\n",
    "            y_pred.extend(predicted.cpu().numpy())\n",
    "\n",
    "    accuracy = accuracy_score(y_true, y_pred)\n",
    "    f1 = f1_score(y_true, y_pred)\n",
    "    cm = confusion_matrix(y_true, y_pred)\n",
    "    \n",
    "    accuracies[denoise] = accuracy\n",
    "    f1_scores[denoise] = f1\n",
    "    confusion_metrics = cm\n",
    "    \n",
    "    print(f\"{denoise} accuracy: {accuracy}\")\n",
    "    print(f\"{denoise} f1 score: {f1}\")"
   ]
  },
  {
   "cell_type": "code",
   "execution_count": null,
   "id": "07c6c91b",
   "metadata": {},
   "outputs": [],
   "source": [
    "fig, axes = plt.subplots(1, 3)\n",
    "for denoise, cm in confusion_metrics:\n",
    "    ConfusionMatrixDisplay(confusion_matrix=cm, display_labels=le.classes_).plot(ax=axes[0])\n",
    "    axes[0].set_title(f\"{denoise} CNN Confusion Matrix\")\n",
    "\n",
    "plt.tight_layout()\n",
    "plt.show()"
   ]
  }
 ],
 "metadata": {
  "kernelspec": {
   "display_name": "venv",
   "language": "python",
   "name": "python3"
  },
  "language_info": {
   "name": "python",
   "version": "3.13.1"
  }
 },
 "nbformat": 4,
 "nbformat_minor": 5
}
